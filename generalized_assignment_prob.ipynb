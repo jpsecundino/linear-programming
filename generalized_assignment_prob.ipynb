{
 "cells": [
  {
   "cell_type": "code",
   "execution_count": 24,
   "id": "4d112cb5",
   "metadata": {},
   "outputs": [],
   "source": [
    "from pulp import *\n",
    "import os\n",
    "import numpy as np\n",
    "import pandas as pd\n",
    "import gurobipy as grb\n",
    "\n",
    "def read_matrix(path_file):\n",
    "    satisfactions = []\n",
    "    resources = []\n",
    "    capacities = []\n",
    "    \n",
    "    with open(path_file, 'r') as f:\n",
    "        m, n= f.readline().split(' ')[:2]\n",
    "        m, n = int(m), int(n)\n",
    "        lines = f.readlines()\n",
    "        lines = [line.rstrip().split(' ') for line in lines]\n",
    "\n",
    "    \n",
    "        for i in range(0, m):\n",
    "            for j in range(n):\n",
    "                satisfactions.append(int(lines[i][j]))\n",
    "\n",
    "\n",
    "        for i in range(m, m + m):\n",
    "            for j in range(n):\n",
    "                resources.append(int(lines[i][j]))\n",
    "        \n",
    "        for j in range(m):\n",
    "            capacities.append(int(lines[2*m][j]))\n",
    "            \n",
    "    satisfactions = np.array(satisfactions)\n",
    "    resources = np.array(resources)\n",
    "    capacities = np.array(capacities)\n",
    "    \n",
    "    return m, n, satisfactions, resources, capacities"
   ]
  },
  {
   "cell_type": "code",
   "execution_count": 11,
   "id": "cf7739a6",
   "metadata": {},
   "outputs": [],
   "source": [
    "# References: \n",
    "# How to keep log files: https://coin-or.github.io/pulp/guides/how_to_configure_solvers.html"
   ]
  },
  {
   "cell_type": "code",
   "execution_count": 66,
   "id": "40ea6f84",
   "metadata": {},
   "outputs": [],
   "source": [
    "inputPath = \"./input/e801600.in\""
   ]
  },
  {
   "cell_type": "code",
   "execution_count": 67,
   "id": "f8ff7982",
   "metadata": {},
   "outputs": [],
   "source": [
    "ans = []\n",
    "\n",
    "prob = LpProblem(\"desig_gen_problem\", LpMaximize)\n",
    "\n",
    "m, n, sat, res, cap = read_matrix(inputPath)\n",
    "\n",
    "N = range(n*m)\n",
    "\n",
    "x = LpVariable.dicts(\n",
    "    \"x\", N, lowBound=0, upBound=1.0\n",
    ")\n",
    "\n",
    "prob += lpSum([sat[i] * x[i]  for i in N]), 'objective F'\n",
    "\n",
    "#   every job can only be picked by one worker\n",
    "for i in range(n):\n",
    "    prob += lpSum([x[i + j*n] for j in range(m)]) == 1\n",
    "\n",
    "#   every worker has to take only the jobs that they can\n",
    "for i in range(m):\n",
    "    prob += lpSum([x[i*n + j] * res[i*n + j] for j in range(n)]) <= cap[i]\n",
    "file = prob.writeMPS(\"test.mps\")\n",
    "# result = prob.solve(solver)\n",
    "# solver.Attr"
   ]
  },
  {
   "cell_type": "code",
   "execution_count": 68,
   "id": "502f9e59",
   "metadata": {},
   "outputs": [
    {
     "name": "stdout",
     "output_type": "stream",
     "text": [
      "Read MPS format model from file test.mps\n",
      "Reading time = 0.53 seconds\n",
      "desig_gen_problem: 1680 rows, 128000 columns, 256000 nonzeros\n",
      "Set parameter TimeLimit to value 100\n",
      "Set parameter Presolve to value 0\n",
      "Set parameter Cuts to value 0\n",
      "Set parameter BranchDir to value -1\n"
     ]
    }
   ],
   "source": [
    "model = grb.read(\"test.mps\")\n",
    "model.setParam(\"TimeLimit\", 100.0)\n",
    "model.setParam(\"Presolve\",0)\n",
    "model.setParam(\"Cuts\",0)\n",
    "model.setParam(\"BranchDir\",-1)"
   ]
  },
  {
   "cell_type": "code",
   "execution_count": 69,
   "id": "53bb2120",
   "metadata": {},
   "outputs": [
    {
     "name": "stdout",
     "output_type": "stream",
     "text": [
      "Gurobi Optimizer version 9.5.0 build v9.5.0rc5 (win64)\n",
      "Thread count: 6 physical cores, 12 logical processors, using up to 12 threads\n",
      "Optimize a model with 1680 rows, 128000 columns and 256000 nonzeros\n",
      "Model fingerprint: 0x7070c135\n",
      "Coefficient statistics:\n",
      "  Matrix range     [1e+00, 1e+02]\n",
      "  Objective range  [1e+00, 1e+03]\n",
      "  Bounds range     [1e+00, 1e+00]\n",
      "  RHS range        [1e+00, 2e+02]\n",
      "\n",
      "Concurrent LP optimizer: primal simplex, dual simplex, and barrier\n",
      "Showing barrier log only...\n",
      "\n",
      "Ordering time: 0.00s\n",
      "\n",
      "Barrier performed 0 iterations in 0.09 seconds (0.00 work units)\n",
      "Barrier solve interrupted - model solved by another algorithm\n",
      "\n",
      "\n",
      "Solved with dual simplex\n",
      "Solved in 117 iterations and 0.11 seconds (0.00 work units)\n",
      "Optimal objective -1.597168000e+06\n"
     ]
    }
   ],
   "source": [
    "model.optimize()"
   ]
  },
  {
   "cell_type": "code",
   "execution_count": 70,
   "id": "c0d5d64b",
   "metadata": {},
   "outputs": [
    {
     "data": {
      "text/plain": [
       "0.0"
      ]
     },
     "execution_count": 70,
     "metadata": {},
     "output_type": "execute_result"
    }
   ],
   "source": [
    "# numero de nos explorados\n",
    "model.getAttr(\"NodeCount\")"
   ]
  },
  {
   "cell_type": "code",
   "execution_count": 74,
   "id": "be04eff4",
   "metadata": {},
   "outputs": [
    {
     "data": {
      "text/plain": [
       "-1597168.0"
      ]
     },
     "execution_count": 74,
     "metadata": {},
     "output_type": "execute_result"
    }
   ],
   "source": [
    "# valor da func objetivo\n",
    "model.getAttr(\"ObjVal\")"
   ]
  },
  {
   "cell_type": "code",
   "execution_count": 79,
   "id": "655ce3e1",
   "metadata": {},
   "outputs": [
    {
     "data": {
      "text/plain": [
       "(1680,)"
      ]
     },
     "execution_count": 79,
     "metadata": {},
     "output_type": "execute_result"
    }
   ],
   "source": [
    "# limitante dual\n",
    "model.getAttr(\"Pi\") "
   ]
  }
 ],
 "metadata": {
  "kernelspec": {
   "display_name": "Python 3 (ipykernel)",
   "language": "python",
   "name": "python3"
  },
  "language_info": {
   "codemirror_mode": {
    "name": "ipython",
    "version": 3
   },
   "file_extension": ".py",
   "mimetype": "text/x-python",
   "name": "python",
   "nbconvert_exporter": "python",
   "pygments_lexer": "ipython3",
   "version": "3.8.12"
  }
 },
 "nbformat": 4,
 "nbformat_minor": 5
}
