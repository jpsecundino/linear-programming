{
 "cells": [
  {
   "cell_type": "code",
   "execution_count": 1,
   "id": "4d112cb5",
   "metadata": {},
   "outputs": [],
   "source": [
    "from pulp import *\n",
    "import os\n",
    "import numpy as np\n",
    "import pandas as pd\n",
    "\n",
    "def read_matrix(path_file):\n",
    "    satisfactions = []\n",
    "    resources = []\n",
    "    capacities = []\n",
    "    \n",
    "    with open(path_file, 'r') as f:\n",
    "        m, n= f.readline().split(' ')[:2]\n",
    "        m, n = int(m), int(n)\n",
    "        lines = f.readlines()\n",
    "        lines = [line.rstrip().split(' ') for line in lines]\n",
    "\n",
    "    \n",
    "        for i in range(0, m):\n",
    "            for j in range(n):\n",
    "                satisfactions.append(int(lines[i][j]))\n",
    "\n",
    "\n",
    "        for i in range(m, m + m):\n",
    "            for j in range(n):\n",
    "                resources.append(int(lines[i][j]))\n",
    "        \n",
    "        for j in range(m):\n",
    "            capacities.append(int(lines[2*m][j]))\n",
    "            \n",
    "    satisfactions = np.array(satisfactions)\n",
    "    resources = np.array(resources)\n",
    "    capacities = np.array(capacities)\n",
    "    \n",
    "    return m, n, satisfactions, resources, capacities"
   ]
  },
  {
   "cell_type": "code",
   "execution_count": 7,
   "id": "40ea6f84",
   "metadata": {},
   "outputs": [],
   "source": [
    "inputPath = \"./input/d201600.in\""
   ]
  },
  {
   "cell_type": "code",
   "execution_count": 59,
   "id": "f8ff7982",
   "metadata": {},
   "outputs": [
    {
     "ename": "TypeError",
     "evalue": "can only concatenate tuple (not \"str\") to tuple",
     "output_type": "error",
     "traceback": [
      "\u001b[1;31m---------------------------------------------------------------------------\u001b[0m",
      "\u001b[1;31mTypeError\u001b[0m                                 Traceback (most recent call last)",
      "\u001b[1;32m~\\AppData\\Local\\Temp/ipykernel_18428/1955697831.py\u001b[0m in \u001b[0;36m<module>\u001b[1;34m\u001b[0m\n\u001b[0;32m     23\u001b[0m     \u001b[0mprob\u001b[0m \u001b[1;33m+=\u001b[0m \u001b[0mlpSum\u001b[0m\u001b[1;33m(\u001b[0m\u001b[1;33m[\u001b[0m\u001b[0mx\u001b[0m\u001b[1;33m[\u001b[0m\u001b[0mi\u001b[0m\u001b[1;33m*\u001b[0m\u001b[0mn\u001b[0m \u001b[1;33m+\u001b[0m \u001b[0mj\u001b[0m\u001b[1;33m]\u001b[0m \u001b[1;33m*\u001b[0m \u001b[0mres\u001b[0m\u001b[1;33m[\u001b[0m\u001b[0mi\u001b[0m\u001b[1;33m*\u001b[0m\u001b[0mn\u001b[0m \u001b[1;33m+\u001b[0m \u001b[0mj\u001b[0m\u001b[1;33m]\u001b[0m \u001b[1;32mfor\u001b[0m \u001b[0mj\u001b[0m \u001b[1;32min\u001b[0m \u001b[0mrange\u001b[0m\u001b[1;33m(\u001b[0m\u001b[0mn\u001b[0m\u001b[1;33m)\u001b[0m\u001b[1;33m]\u001b[0m\u001b[1;33m)\u001b[0m \u001b[1;33m<=\u001b[0m \u001b[0mcap\u001b[0m\u001b[1;33m[\u001b[0m\u001b[0mi\u001b[0m\u001b[1;33m]\u001b[0m\u001b[1;33m\u001b[0m\u001b[1;33m\u001b[0m\u001b[0m\n\u001b[0;32m     24\u001b[0m \u001b[1;33m\u001b[0m\u001b[0m\n\u001b[1;32m---> 25\u001b[1;33m \u001b[0msolver\u001b[0m\u001b[1;33m.\u001b[0m\u001b[0mactualSolve\u001b[0m\u001b[1;33m(\u001b[0m\u001b[0mprob\u001b[0m\u001b[1;33m)\u001b[0m\u001b[1;33m\u001b[0m\u001b[1;33m\u001b[0m\u001b[0m\n\u001b[0m\u001b[0;32m     26\u001b[0m \u001b[1;31m# solver.solverModel.parameters.timelimit.set(10)\u001b[0m\u001b[1;33m\u001b[0m\u001b[1;33m\u001b[0m\u001b[1;33m\u001b[0m\u001b[0m\n\u001b[0;32m     27\u001b[0m \u001b[1;31m# solver.solverModel.parameters.preprocessing.presolve.set(0)\u001b[0m\u001b[1;33m\u001b[0m\u001b[1;33m\u001b[0m\u001b[1;33m\u001b[0m\u001b[0m\n",
      "\u001b[1;32m~\\anaconda3\\envs\\progmat\\lib\\site-packages\\pulp\\apis\\cplex_api.py\u001b[0m in \u001b[0;36mactualSolve\u001b[1;34m(self, lp)\u001b[0m\n\u001b[0;32m    122\u001b[0m         \u001b[0moptions\u001b[0m \u001b[1;33m=\u001b[0m \u001b[0mself\u001b[0m\u001b[1;33m.\u001b[0m\u001b[0moptions\u001b[0m \u001b[1;33m+\u001b[0m \u001b[0mself\u001b[0m\u001b[1;33m.\u001b[0m\u001b[0mgetOptions\u001b[0m\u001b[1;33m(\u001b[0m\u001b[1;33m)\u001b[0m\u001b[1;33m\u001b[0m\u001b[1;33m\u001b[0m\u001b[0m\n\u001b[0;32m    123\u001b[0m         \u001b[1;32mfor\u001b[0m \u001b[0moption\u001b[0m \u001b[1;32min\u001b[0m \u001b[0moptions\u001b[0m\u001b[1;33m:\u001b[0m\u001b[1;33m\u001b[0m\u001b[1;33m\u001b[0m\u001b[0m\n\u001b[1;32m--> 124\u001b[1;33m             \u001b[0mcplex_cmds\u001b[0m \u001b[1;33m+=\u001b[0m \u001b[0moption\u001b[0m \u001b[1;33m+\u001b[0m \u001b[1;34m\"\\n\"\u001b[0m\u001b[1;33m\u001b[0m\u001b[1;33m\u001b[0m\u001b[0m\n\u001b[0m\u001b[0;32m    125\u001b[0m         \u001b[1;32mif\u001b[0m \u001b[0mlp\u001b[0m\u001b[1;33m.\u001b[0m\u001b[0misMIP\u001b[0m\u001b[1;33m(\u001b[0m\u001b[1;33m)\u001b[0m\u001b[1;33m:\u001b[0m\u001b[1;33m\u001b[0m\u001b[1;33m\u001b[0m\u001b[0m\n\u001b[0;32m    126\u001b[0m             \u001b[1;32mif\u001b[0m \u001b[0mself\u001b[0m\u001b[1;33m.\u001b[0m\u001b[0mmip\u001b[0m\u001b[1;33m:\u001b[0m\u001b[1;33m\u001b[0m\u001b[1;33m\u001b[0m\u001b[0m\n",
      "\u001b[1;31mTypeError\u001b[0m: can only concatenate tuple (not \"str\") to tuple"
     ]
    }
   ],
   "source": [
    "ans = []\n",
    "\n",
    "solver = CPLEX_CMD(options = [(\"TimeLimit\",180),(\"Presolve\",0),(\"Cuts\",0),(\"BranchDir\", -1)])\n",
    "\n",
    "prob = LpProblem(\"desig_gen_problem\", LpMaximize)\n",
    "\n",
    "m, n, sat, res, cap = read_matrix(inputPath)\n",
    "\n",
    "N = range(n*m)\n",
    "\n",
    "x = LpVariable.dicts(\n",
    "    \"x\", N, lowBound=0, upBound=1.0\n",
    ")\n",
    "\n",
    "prob += lpSum([sat[i] * x[i]  for i in N]), 'objective F'\n",
    "\n",
    "#   every job can only be picked by one worker\n",
    "for i in range(n):\n",
    "    prob += lpSum([x[i + j*n] for j in range(m)]) == 1\n",
    "\n",
    "#   every worker has to take only the jobs that they can\n",
    "for i in range(m):\n",
    "    prob += lpSum([x[i*n + j] * res[i*n + j] for j in range(n)]) <= cap[i]\n",
    "\n",
    "solver.actualSolve(prob)\n",
    "solver.solverModel.parameters.timelimit.set(10)\n",
    "solver.solverModel.parameters.preprocessing.presolve.set(0)\n",
    "solver.solverModel.parameters.mip.strategy.branch.set(1)\n",
    "print(solver.solverModel.parameters.get_all())\n",
    "\n",
    "# solver.callSolver(prob)\n",
    "status = solver.findSolutionValues(prob)\n",
    "\n",
    "\n",
    "\n",
    "# # df_res = pd.DataFrame(res)\n",
    "# # df_res.to_csv('results_lp.csv')"
   ]
  },
  {
   "cell_type": "code",
   "execution_count": 57,
   "id": "5d99e200",
   "metadata": {},
   "outputs": [
    {
     "data": {
      "text/plain": [
       "<pulp.apis.cplex_api.CPLEX_CMD at 0x1c8f0158a30>"
      ]
     },
     "execution_count": 57,
     "metadata": {},
     "output_type": "execute_result"
    }
   ],
   "source": []
  }
 ],
 "metadata": {
  "kernelspec": {
   "display_name": "Python 3 (ipykernel)",
   "language": "python",
   "name": "python3"
  },
  "language_info": {
   "codemirror_mode": {
    "name": "ipython",
    "version": 3
   },
   "file_extension": ".py",
   "mimetype": "text/x-python",
   "name": "python",
   "nbconvert_exporter": "python",
   "pygments_lexer": "ipython3",
   "version": "3.8.12"
  }
 },
 "nbformat": 4,
 "nbformat_minor": 5
}
